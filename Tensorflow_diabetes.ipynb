{
  "cells": [
    {
      "cell_type": "code",
      "execution_count": null,
      "metadata": {
        "colab": {
          "background_save": true
        },
        "id": "j_a2tt5GdIO7"
      },
      "outputs": [],
      "source": [
        "import numpy as np\n",
        "import pandas as pd"
      ]
    },
    {
      "cell_type": "code",
      "execution_count": null,
      "metadata": {
        "colab": {
          "background_save": true
        },
        "id": "3AQYVnpadxKF"
      },
      "outputs": [],
      "source": [
        "import tensorflow as tf"
      ]
    },
    {
      "cell_type": "code",
      "execution_count": null,
      "metadata": {
        "colab": {
          "background_save": true
        },
        "id": "LD1CCZICd4EB"
      },
      "outputs": [],
      "source": [
        "data=pd.read_csv(\"/content/diabetes.csv\")"
      ]
    },
    {
      "cell_type": "code",
      "execution_count": null,
      "metadata": {
        "colab": {
          "background_save": true,
          "base_uri": "https://localhost:8080/"
        },
        "id": "7RaWJnFreFmn",
        "outputId": "1229b5d5-e62a-40bc-dc66-046bb3f66f5b"
      },
      "outputs": [
        {
          "data": {
            "text/plain": [
              "Pregnancies                 0\n",
              "Glucose                     0\n",
              "BloodPressure               0\n",
              "SkinThickness               0\n",
              "Insulin                     0\n",
              "BMI                         0\n",
              "DiabetesPedigreeFunction    0\n",
              "Age                         0\n",
              "Outcome                     0\n",
              "dtype: int64"
            ]
          },
          "execution_count": 27,
          "metadata": {},
          "output_type": "execute_result"
        }
      ],
      "source": [
        "## Data preprocessing\n",
        "\n",
        "data.isnull().sum()"
      ]
    },
    {
      "cell_type": "code",
      "execution_count": null,
      "metadata": {
        "colab": {
          "background_save": true,
          "base_uri": "https://localhost:8080/",
          "height": 300
        },
        "id": "W7R9vy9-edGC",
        "outputId": "23752af5-a78c-48c5-91a2-229d140952fc"
      },
      "outputs": [
        {
          "data": {
            "text/html": [
              "\n",
              "  <div id=\"df-462d09e2-f035-4e37-84f9-fba18d8ab55b\">\n",
              "    <div class=\"colab-df-container\">\n",
              "      <div>\n",
              "<style scoped>\n",
              "    .dataframe tbody tr th:only-of-type {\n",
              "        vertical-align: middle;\n",
              "    }\n",
              "\n",
              "    .dataframe tbody tr th {\n",
              "        vertical-align: top;\n",
              "    }\n",
              "\n",
              "    .dataframe thead th {\n",
              "        text-align: right;\n",
              "    }\n",
              "</style>\n",
              "<table border=\"1\" class=\"dataframe\">\n",
              "  <thead>\n",
              "    <tr style=\"text-align: right;\">\n",
              "      <th></th>\n",
              "      <th>Pregnancies</th>\n",
              "      <th>Glucose</th>\n",
              "      <th>BloodPressure</th>\n",
              "      <th>SkinThickness</th>\n",
              "      <th>Insulin</th>\n",
              "      <th>BMI</th>\n",
              "      <th>DiabetesPedigreeFunction</th>\n",
              "      <th>Age</th>\n",
              "      <th>Outcome</th>\n",
              "    </tr>\n",
              "  </thead>\n",
              "  <tbody>\n",
              "    <tr>\n",
              "      <th>count</th>\n",
              "      <td>768.000000</td>\n",
              "      <td>768.000000</td>\n",
              "      <td>768.000000</td>\n",
              "      <td>768.000000</td>\n",
              "      <td>768.000000</td>\n",
              "      <td>768.000000</td>\n",
              "      <td>768.000000</td>\n",
              "      <td>768.000000</td>\n",
              "      <td>768.000000</td>\n",
              "    </tr>\n",
              "    <tr>\n",
              "      <th>mean</th>\n",
              "      <td>3.845052</td>\n",
              "      <td>120.894531</td>\n",
              "      <td>69.105469</td>\n",
              "      <td>20.536458</td>\n",
              "      <td>79.799479</td>\n",
              "      <td>31.992578</td>\n",
              "      <td>0.471876</td>\n",
              "      <td>33.240885</td>\n",
              "      <td>0.348958</td>\n",
              "    </tr>\n",
              "    <tr>\n",
              "      <th>std</th>\n",
              "      <td>3.369578</td>\n",
              "      <td>31.972618</td>\n",
              "      <td>19.355807</td>\n",
              "      <td>15.952218</td>\n",
              "      <td>115.244002</td>\n",
              "      <td>7.884160</td>\n",
              "      <td>0.331329</td>\n",
              "      <td>11.760232</td>\n",
              "      <td>0.476951</td>\n",
              "    </tr>\n",
              "    <tr>\n",
              "      <th>min</th>\n",
              "      <td>0.000000</td>\n",
              "      <td>0.000000</td>\n",
              "      <td>0.000000</td>\n",
              "      <td>0.000000</td>\n",
              "      <td>0.000000</td>\n",
              "      <td>0.000000</td>\n",
              "      <td>0.078000</td>\n",
              "      <td>21.000000</td>\n",
              "      <td>0.000000</td>\n",
              "    </tr>\n",
              "    <tr>\n",
              "      <th>25%</th>\n",
              "      <td>1.000000</td>\n",
              "      <td>99.000000</td>\n",
              "      <td>62.000000</td>\n",
              "      <td>0.000000</td>\n",
              "      <td>0.000000</td>\n",
              "      <td>27.300000</td>\n",
              "      <td>0.243750</td>\n",
              "      <td>24.000000</td>\n",
              "      <td>0.000000</td>\n",
              "    </tr>\n",
              "    <tr>\n",
              "      <th>50%</th>\n",
              "      <td>3.000000</td>\n",
              "      <td>117.000000</td>\n",
              "      <td>72.000000</td>\n",
              "      <td>23.000000</td>\n",
              "      <td>30.500000</td>\n",
              "      <td>32.000000</td>\n",
              "      <td>0.372500</td>\n",
              "      <td>29.000000</td>\n",
              "      <td>0.000000</td>\n",
              "    </tr>\n",
              "    <tr>\n",
              "      <th>75%</th>\n",
              "      <td>6.000000</td>\n",
              "      <td>140.250000</td>\n",
              "      <td>80.000000</td>\n",
              "      <td>32.000000</td>\n",
              "      <td>127.250000</td>\n",
              "      <td>36.600000</td>\n",
              "      <td>0.626250</td>\n",
              "      <td>41.000000</td>\n",
              "      <td>1.000000</td>\n",
              "    </tr>\n",
              "    <tr>\n",
              "      <th>max</th>\n",
              "      <td>17.000000</td>\n",
              "      <td>199.000000</td>\n",
              "      <td>122.000000</td>\n",
              "      <td>99.000000</td>\n",
              "      <td>846.000000</td>\n",
              "      <td>67.100000</td>\n",
              "      <td>2.420000</td>\n",
              "      <td>81.000000</td>\n",
              "      <td>1.000000</td>\n",
              "    </tr>\n",
              "  </tbody>\n",
              "</table>\n",
              "</div>\n",
              "      <button class=\"colab-df-convert\" onclick=\"convertToInteractive('df-462d09e2-f035-4e37-84f9-fba18d8ab55b')\"\n",
              "              title=\"Convert this dataframe to an interactive table.\"\n",
              "              style=\"display:none;\">\n",
              "        \n",
              "  <svg xmlns=\"http://www.w3.org/2000/svg\" height=\"24px\"viewBox=\"0 0 24 24\"\n",
              "       width=\"24px\">\n",
              "    <path d=\"M0 0h24v24H0V0z\" fill=\"none\"/>\n",
              "    <path d=\"M18.56 5.44l.94 2.06.94-2.06 2.06-.94-2.06-.94-.94-2.06-.94 2.06-2.06.94zm-11 1L8.5 8.5l.94-2.06 2.06-.94-2.06-.94L8.5 2.5l-.94 2.06-2.06.94zm10 10l.94 2.06.94-2.06 2.06-.94-2.06-.94-.94-2.06-.94 2.06-2.06.94z\"/><path d=\"M17.41 7.96l-1.37-1.37c-.4-.4-.92-.59-1.43-.59-.52 0-1.04.2-1.43.59L10.3 9.45l-7.72 7.72c-.78.78-.78 2.05 0 2.83L4 21.41c.39.39.9.59 1.41.59.51 0 1.02-.2 1.41-.59l7.78-7.78 2.81-2.81c.8-.78.8-2.07 0-2.86zM5.41 20L4 18.59l7.72-7.72 1.47 1.35L5.41 20z\"/>\n",
              "  </svg>\n",
              "      </button>\n",
              "      \n",
              "  <style>\n",
              "    .colab-df-container {\n",
              "      display:flex;\n",
              "      flex-wrap:wrap;\n",
              "      gap: 12px;\n",
              "    }\n",
              "\n",
              "    .colab-df-convert {\n",
              "      background-color: #E8F0FE;\n",
              "      border: none;\n",
              "      border-radius: 50%;\n",
              "      cursor: pointer;\n",
              "      display: none;\n",
              "      fill: #1967D2;\n",
              "      height: 32px;\n",
              "      padding: 0 0 0 0;\n",
              "      width: 32px;\n",
              "    }\n",
              "\n",
              "    .colab-df-convert:hover {\n",
              "      background-color: #E2EBFA;\n",
              "      box-shadow: 0px 1px 2px rgba(60, 64, 67, 0.3), 0px 1px 3px 1px rgba(60, 64, 67, 0.15);\n",
              "      fill: #174EA6;\n",
              "    }\n",
              "\n",
              "    [theme=dark] .colab-df-convert {\n",
              "      background-color: #3B4455;\n",
              "      fill: #D2E3FC;\n",
              "    }\n",
              "\n",
              "    [theme=dark] .colab-df-convert:hover {\n",
              "      background-color: #434B5C;\n",
              "      box-shadow: 0px 1px 3px 1px rgba(0, 0, 0, 0.15);\n",
              "      filter: drop-shadow(0px 1px 2px rgba(0, 0, 0, 0.3));\n",
              "      fill: #FFFFFF;\n",
              "    }\n",
              "  </style>\n",
              "\n",
              "      <script>\n",
              "        const buttonEl =\n",
              "          document.querySelector('#df-462d09e2-f035-4e37-84f9-fba18d8ab55b button.colab-df-convert');\n",
              "        buttonEl.style.display =\n",
              "          google.colab.kernel.accessAllowed ? 'block' : 'none';\n",
              "\n",
              "        async function convertToInteractive(key) {\n",
              "          const element = document.querySelector('#df-462d09e2-f035-4e37-84f9-fba18d8ab55b');\n",
              "          const dataTable =\n",
              "            await google.colab.kernel.invokeFunction('convertToInteractive',\n",
              "                                                     [key], {});\n",
              "          if (!dataTable) return;\n",
              "\n",
              "          const docLinkHtml = 'Like what you see? Visit the ' +\n",
              "            '<a target=\"_blank\" href=https://colab.research.google.com/notebooks/data_table.ipynb>data table notebook</a>'\n",
              "            + ' to learn more about interactive tables.';\n",
              "          element.innerHTML = '';\n",
              "          dataTable['output_type'] = 'display_data';\n",
              "          await google.colab.output.renderOutput(dataTable, element);\n",
              "          const docLink = document.createElement('div');\n",
              "          docLink.innerHTML = docLinkHtml;\n",
              "          element.appendChild(docLink);\n",
              "        }\n",
              "      </script>\n",
              "    </div>\n",
              "  </div>\n",
              "  "
            ],
            "text/plain": [
              "       Pregnancies     Glucose  BloodPressure  SkinThickness     Insulin  \\\n",
              "count   768.000000  768.000000     768.000000     768.000000  768.000000   \n",
              "mean      3.845052  120.894531      69.105469      20.536458   79.799479   \n",
              "std       3.369578   31.972618      19.355807      15.952218  115.244002   \n",
              "min       0.000000    0.000000       0.000000       0.000000    0.000000   \n",
              "25%       1.000000   99.000000      62.000000       0.000000    0.000000   \n",
              "50%       3.000000  117.000000      72.000000      23.000000   30.500000   \n",
              "75%       6.000000  140.250000      80.000000      32.000000  127.250000   \n",
              "max      17.000000  199.000000     122.000000      99.000000  846.000000   \n",
              "\n",
              "              BMI  DiabetesPedigreeFunction         Age     Outcome  \n",
              "count  768.000000                768.000000  768.000000  768.000000  \n",
              "mean    31.992578                  0.471876   33.240885    0.348958  \n",
              "std      7.884160                  0.331329   11.760232    0.476951  \n",
              "min      0.000000                  0.078000   21.000000    0.000000  \n",
              "25%     27.300000                  0.243750   24.000000    0.000000  \n",
              "50%     32.000000                  0.372500   29.000000    0.000000  \n",
              "75%     36.600000                  0.626250   41.000000    1.000000  \n",
              "max     67.100000                  2.420000   81.000000    1.000000  "
            ]
          },
          "execution_count": 28,
          "metadata": {},
          "output_type": "execute_result"
        }
      ],
      "source": [
        "data.describe()"
      ]
    },
    {
      "cell_type": "code",
      "execution_count": null,
      "metadata": {
        "colab": {
          "background_save": true,
          "base_uri": "https://localhost:8080/"
        },
        "id": "8bew94TIkWle",
        "outputId": "f95e8fd0-d476-4161-9995-6971767a8a56"
      },
      "outputs": [
        {
          "data": {
            "text/plain": [
              "0    500\n",
              "1    268\n",
              "Name: Outcome, dtype: int64"
            ]
          },
          "execution_count": 29,
          "metadata": {},
          "output_type": "execute_result"
        }
      ],
      "source": [
        "data[\"Outcome\"].value_counts()"
      ]
    },
    {
      "cell_type": "code",
      "execution_count": null,
      "metadata": {
        "colab": {
          "background_save": true,
          "base_uri": "https://localhost:8080/"
        },
        "id": "s9I1ZMpse5kR",
        "outputId": "4c0dd8e0-98dc-4c98-cf4a-6cbab0c4bbc9"
      },
      "outputs": [
        {
          "name": "stdout",
          "output_type": "stream",
          "text": [
            "                    feature        VIF\n",
            "0               Pregnancies   3.364416\n",
            "1                   Glucose  18.030209\n",
            "2             BloodPressure  15.313159\n",
            "3             SkinThickness   4.008709\n",
            "4                   Insulin   2.063940\n",
            "5                       BMI  18.515112\n",
            "6  DiabetesPedigreeFunction   3.213450\n",
            "7                       Age  13.500531\n",
            "8                   Outcome   1.948398\n"
          ]
        }
      ],
      "source": [
        "from statsmodels.stats.outliers_influence import variance_inflation_factor\n",
        "\n",
        "vif_data = pd.DataFrame()\n",
        "vif_data[\"feature\"] = data.columns\n",
        "  \n",
        "# calculating VIF for each feature\n",
        "vif_data[\"VIF\"] = [variance_inflation_factor(data.values, i)\n",
        "                          for i in range(len(data.columns))]\n",
        "  \n",
        "print(vif_data)"
      ]
    },
    {
      "cell_type": "code",
      "execution_count": null,
      "metadata": {
        "colab": {
          "background_save": true
        },
        "id": "LhnJ5THig2ze"
      },
      "outputs": [],
      "source": [
        "import matplotlib.pyplot as plt\n",
        "%matplotlib inline"
      ]
    },
    {
      "cell_type": "code",
      "execution_count": null,
      "metadata": {
        "colab": {
          "background_save": true,
          "base_uri": "https://localhost:8080/",
          "height": 472
        },
        "id": "c3EsyX_eIrXl",
        "outputId": "a6ecc16b-15e5-4c8c-e563-80cb70981edb"
      },
      "outputs": [
        {
          "data": {
            "text/plain": [
              "array([[<matplotlib.axes._subplots.AxesSubplot object at 0x7f4aee791b50>,\n",
              "        <matplotlib.axes._subplots.AxesSubplot object at 0x7f4aed479220>,\n",
              "        <matplotlib.axes._subplots.AxesSubplot object at 0x7f4aec00a160>],\n",
              "       [<matplotlib.axes._subplots.AxesSubplot object at 0x7f4b801795e0>,\n",
              "        <matplotlib.axes._subplots.AxesSubplot object at 0x7f4af83594f0>,\n",
              "        <matplotlib.axes._subplots.AxesSubplot object at 0x7f4af8304820>],\n",
              "       [<matplotlib.axes._subplots.AxesSubplot object at 0x7f4af8304910>,\n",
              "        <matplotlib.axes._subplots.AxesSubplot object at 0x7f4aee700b20>,\n",
              "        <matplotlib.axes._subplots.AxesSubplot object at 0x7f4aee6e82b0>]],\n",
              "      dtype=object)"
            ]
          },
          "execution_count": 32,
          "metadata": {},
          "output_type": "execute_result"
        },
        {
          "data": {
            "text/plain": [
              "<Figure size 2160x1080 with 0 Axes>"
            ]
          },
          "metadata": {},
          "output_type": "display_data"
        },
        {
          "data": {
            "image/png": "[encoded data removed]",
            "text/plain": [
              "<Figure size 432x288 with 9 Axes>"
            ]
          },
          "metadata": {},
          "output_type": "display_data"
        }
      ],
      "source": [
        "fig = plt.figure(figsize =(30, 15))\n",
        "data.hist()"
      ]
    },
    {
      "cell_type": "code",
      "execution_count": null,
      "metadata": {
        "colab": {
          "background_save": true
        },
        "id": "K1O8K8WhJZ6m"
      },
      "outputs": [],
      "source": []
    },
    {
      "cell_type": "code",
      "execution_count": null,
      "metadata": {
        "colab": {
          "background_save": true,
          "base_uri": "https://localhost:8080/",
          "height": 445
        },
        "id": "dlSsjOH6gADm",
        "outputId": "fedd654e-7eb4-4942-e166-d5ca0ee06efe"
      },
      "outputs": [
        {
          "data": {
            "text/plain": [
              "<matplotlib.axes._subplots.AxesSubplot at 0x7f4aee525a00>"
            ]
          },
          "execution_count": 33,
          "metadata": {},
          "output_type": "execute_result"
        },
        {
          "data": {
            "image/png": "[encoded data removed]",
            "text/plain": [
              "<Figure size 720x504 with 1 Axes>"
            ]
          },
          "metadata": {},
          "output_type": "display_data"
        }
      ],
      "source": [
        "fig = plt.figure(figsize =(10, 7))\n",
        "data.boxplot()"
      ]
    },
    {
      "cell_type": "code",
      "execution_count": null,
      "metadata": {
        "colab": {
          "background_save": true,
          "base_uri": "https://localhost:8080/"
        },
        "id": "JHCMTPD_ML6t",
        "outputId": "2f435439-f363-4f2f-d41b-c335fd973a85"
      },
      "outputs": [
        {
          "name": "stdout",
          "output_type": "stream",
          "text": [
            "Feature 0: 21.952926\n",
            "Feature 1: 134.995132\n",
            "Feature 2: 1.868609\n",
            "Feature 3: 2.141532\n",
            "Feature 4: 6.303769\n",
            "Feature 5: 41.691993\n",
            "Feature 6: 11.759834\n",
            "Feature 7: 26.831139\n"
          ]
        }
      ],
      "source": [
        "from sklearn.model_selection import train_test_split\n",
        "from sklearn.feature_selection import SelectKBest\n",
        "from sklearn.feature_selection import f_classif\n",
        "from matplotlib import pyplot\n",
        "\n",
        "# load the dataset\n",
        "def load_dataset(filename):\n",
        "\t# load the dataset as a pandas DataFrame\n",
        "\tdata =pd. read_csv(filename, header=None)\n",
        "\t# retrieve numpy array\n",
        "\tdataset = data.values\n",
        "\t# split into input (X) and output (y) variables\n",
        "\tX = dataset[:, :-1]\n",
        "\ty = dataset[:,-1]\n",
        "\treturn X, y\n",
        "\n",
        "# feature selection\n",
        "def select_features(X_train, y_train, X_test):\n",
        "\t# configure to select all features\n",
        "\tfs = SelectKBest(score_func=f_classif, k='all')\n",
        "\t# learn relationship from training data\n",
        "\tfs.fit(X_train, y_train)\n",
        "\t# transform train input data\n",
        "\tX_train_fs = fs.transform(X_train)\n",
        "\t# transform test input data\n",
        "\tX_test_fs = fs.transform(X_test)\n",
        "\treturn X_train_fs, X_test_fs, fs\n",
        "\n",
        "# load the dataset\n",
        "X, y = load_dataset('/content/diabetes.csv')\n",
        "# split into train and test sets\n",
        "X_train, X_test, y_train, y_test = train_test_split(X, y, test_size=0.33, random_state=1)\n",
        "# feature selection\n",
        "X_train_fs, X_test_fs, fs = select_features(X_train, y_train, X_test)\n",
        "# what are scores for the features\n",
        "for i in range(len(fs.scores_)):\n",
        "\tprint('Feature %d: %f' % (i, fs.scores_[i]))"
      ]
    },
    {
      "cell_type": "code",
      "execution_count": null,
      "metadata": {
        "colab": {
          "background_save": true,
          "base_uri": "https://localhost:8080/"
        },
        "id": "p0jxX8IDMrNN",
        "outputId": "107aad46-8b64-47bc-c385-ae564a0d3f4e"
      },
      "outputs": [
        {
          "data": {
            "text/plain": [
              "Index(['Pregnancies', 'Glucose', 'BloodPressure', 'SkinThickness', 'Insulin',\n",
              "       'BMI', 'DiabetesPedigreeFunction', 'Age', 'Outcome'],\n",
              "      dtype='object')"
            ]
          },
          "execution_count": 35,
          "metadata": {},
          "output_type": "execute_result"
        }
      ],
      "source": [
        "data.columns"
      ]
    },
    {
      "cell_type": "code",
      "execution_count": null,
      "metadata": {
        "colab": {
          "background_save": true
        },
        "id": "m74TEhZyhJ9I"
      },
      "outputs": [],
      "source": [
        "# from sklearn.datasets import load_boston\n",
        "# import pandas as pd\n",
        "\n",
        "# # IQR\n",
        "# Q1 = np.percentile(data['Insulin'], 25,interpolation = 'midpoint')\n",
        " \n",
        "# Q3 = np.percentile(data['Insulin'], 75,interpolation = 'midpoint')\n",
        "# IQR = Q3 - Q1\n",
        " \n",
        "# IQR = Q3 - Q1\n",
        " \n",
        "# print(\"Old Shape: \", data.shape)\n",
        " \n",
        "# # Upper bound\n",
        "# upper = np.where(data['Insulin'] >= (Q3+1.5*IQR))\n",
        "# # Lower bound\n",
        "# lower = np.where(data['Insulin'] <= (Q1-1.5*IQR))\n",
        "# data.drop(upper[0], inplace = True)\n",
        "# data.drop(lower[0], inplace = True)"
      ]
    },
    {
      "cell_type": "code",
      "execution_count": null,
      "metadata": {
        "colab": {
          "background_save": true
        },
        "id": "SK_A6XszmKgv"
      },
      "outputs": [],
      "source": [
        "# data=data[best_col]\n",
        "# data.shape"
      ]
    },
    {
      "cell_type": "code",
      "execution_count": null,
      "metadata": {
        "colab": {
          "background_save": true,
          "base_uri": "https://localhost:8080/",
          "height": 282
        },
        "id": "Mtj4NHGPmV49",
        "outputId": "c7117356-9f78-4278-be11-241b3d0e8219"
      },
      "outputs": [
        {
          "data": {
            "text/plain": [
              "<matplotlib.axes._subplots.AxesSubplot at 0x7f4aee43aee0>"
            ]
          },
          "execution_count": 38,
          "metadata": {},
          "output_type": "execute_result"
        },
        {
          "data": {
            "image/png": "[encoded data removed]",
            "text/plain": [
              "<Figure size 432x288 with 1 Axes>"
            ]
          },
          "metadata": {},
          "output_type": "display_data"
        }
      ],
      "source": [
        "data.boxplot()"
      ]
    },
    {
      "cell_type": "code",
      "execution_count": null,
      "metadata": {
        "colab": {
          "background_save": true
        },
        "id": "fG7SiGGImdXn"
      },
      "outputs": [],
      "source": [
        "targt=data[\"Outcome\"]\n",
        "feture_data=data.drop([\"Outcome\",\"Insulin\"],axis=1)"
      ]
    },
    {
      "cell_type": "code",
      "execution_count": null,
      "metadata": {
        "colab": {
          "background_save": true
        },
        "id": "k0GNj0v1ttck"
      },
      "outputs": [],
      "source": [
        "from sklearn.model_selection import train_test_split\n",
        "x_train,x_test,y_train,y_test=train_test_split(feture_data,targt,test_size=0.33)"
      ]
    },
    {
      "cell_type": "code",
      "execution_count": null,
      "metadata": {
        "colab": {
          "background_save": true,
          "base_uri": "https://localhost:8080/"
        },
        "id": "pFklhAg116Io",
        "outputId": "a032d47b-ac58-4555-f19b-e8e5c4ee93da"
      },
      "outputs": [
        {
          "data": {
            "text/plain": [
              "(514, 7)"
            ]
          },
          "execution_count": 41,
          "metadata": {},
          "output_type": "execute_result"
        }
      ],
      "source": [
        "x_train.shape"
      ]
    },
    {
      "cell_type": "code",
      "execution_count": null,
      "metadata": {
        "colab": {
          "background_save": true
        },
        "id": "kg40ZwcJ1pki"
      },
      "outputs": [],
      "source": [
        "from tensorflow.keras import Sequential,layers"
      ]
    },
    {
      "cell_type": "code",
      "execution_count": null,
      "metadata": {
        "colab": {
          "background_save": true
        },
        "id": "4y_mcTA51xPa"
      },
      "outputs": [],
      "source": [
        "model=Sequential()\n",
        "model.add(layers.Dense(32,input_dim=(7),activation='relu'))\n",
        "model.add(layers.BatchNormalization())\n",
        "model.add(layers.Dropout(0.3))\n",
        "model.add(layers.Dense(64,activation='relu'))\n",
        "model.add(layers.BatchNormalization())\n",
        "model.add(layers.Dropout(0.3))\n",
        "model.add(layers.Dense(32,activation='relu'))\n",
        "model.add(layers.Dropout(0.3))\n",
        "model.add(layers.Dense(1,activation='sigmoid'))\n",
        "model.compile(optimizer='Adam',loss='binary_crossentropy',metrics='accuracy')"
      ]
    },
    {
      "cell_type": "code",
      "execution_count": null,
      "metadata": {
        "colab": {
          "background_save": true,
          "base_uri": "https://localhost:8080/"
        },
        "id": "hJsx2fEP2CCP",
        "outputId": "d040949e-5dc2-48cb-fed7-a4e0737f41f4"
      },
      "outputs": [
        {
          "name": "stdout",
          "output_type": "stream",
          "text": [
            "Epoch 1/200\n",
            "52/52 [==============================] - 2s 3ms/step - loss: 0.8617 - accuracy: 0.5545\n",
            "Epoch 2/200\n",
            "52/52 [==============================] - 0s 3ms/step - loss: 0.7124 - accuracy: 0.6284\n",
            "Epoch 3/200\n",
            "52/52 [==============================] - 0s 3ms/step - loss: 0.6361 - accuracy: 0.6868\n",
            "Epoch 4/200\n",
            "52/52 [==============================] - 0s 3ms/step - loss: 0.6530 - accuracy: 0.7004\n",
            "Epoch 5/200\n",
            "52/52 [==============================] - 0s 3ms/step - loss: 0.6322 - accuracy: 0.6654\n",
            "Epoch 6/200\n",
            "52/52 [==============================] - 0s 3ms/step - loss: 0.5921 - accuracy: 0.7140\n",
            "Epoch 7/200\n",
            "52/52 [==============================] - 0s 3ms/step - loss: 0.6410 - accuracy: 0.6946\n",
            "Epoch 8/200\n",
            "52/52 [==============================] - 0s 3ms/step - loss: 0.5916 - accuracy: 0.6887\n",
            "Epoch 9/200\n",
            "52/52 [==============================] - 0s 3ms/step - loss: 0.5955 - accuracy: 0.7043\n",
            "Epoch 10/200\n",
            "52/52 [==============================] - 0s 3ms/step - loss: 0.5849 - accuracy: 0.6868\n",
            "Epoch 11/200\n",
            "52/52 [==============================] - 0s 3ms/step - loss: 0.5912 - accuracy: 0.7237\n",
            "Epoch 12/200\n",
            "52/52 [==============================] - 0s 3ms/step - loss: 0.5387 - accuracy: 0.7276\n",
            "Epoch 13/200\n",
            "52/52 [==============================] - 0s 3ms/step - loss: 0.5550 - accuracy: 0.7140\n",
            "Epoch 14/200\n",
            "52/52 [==============================] - 0s 3ms/step - loss: 0.5629 - accuracy: 0.7160\n",
            "Epoch 15/200\n",
            "52/52 [==============================] - 0s 3ms/step - loss: 0.5679 - accuracy: 0.7082\n",
            "Epoch 16/200\n",
            "52/52 [==============================] - 0s 3ms/step - loss: 0.5863 - accuracy: 0.6984\n",
            "Epoch 17/200\n",
            "52/52 [==============================] - 0s 3ms/step - loss: 0.5702 - accuracy: 0.7179\n",
            "Epoch 18/200\n",
            "52/52 [==============================] - 0s 3ms/step - loss: 0.5607 - accuracy: 0.7354\n",
            "Epoch 19/200\n",
            "52/52 [==============================] - 0s 3ms/step - loss: 0.5818 - accuracy: 0.7121\n",
            "Epoch 20/200\n",
            "52/52 [==============================] - 0s 3ms/step - loss: 0.5570 - accuracy: 0.7374\n",
            "Epoch 21/200\n",
            "52/52 [==============================] - 0s 3ms/step - loss: 0.5746 - accuracy: 0.7198\n",
            "Epoch 22/200\n",
            "52/52 [==============================] - 0s 3ms/step - loss: 0.5519 - accuracy: 0.7257\n",
            "Epoch 23/200\n",
            "52/52 [==============================] - 0s 3ms/step - loss: 0.5499 - accuracy: 0.7160\n",
            "Epoch 24/200\n",
            "52/52 [==============================] - 0s 4ms/step - loss: 0.5564 - accuracy: 0.7082\n",
            "Epoch 25/200\n",
            "52/52 [==============================] - 0s 3ms/step - loss: 0.5724 - accuracy: 0.7043\n",
            "Epoch 26/200\n",
            "52/52 [==============================] - 0s 3ms/step - loss: 0.5459 - accuracy: 0.7101\n",
            "Epoch 27/200\n",
            "52/52 [==============================] - 0s 4ms/step - loss: 0.5745 - accuracy: 0.6984\n",
            "Epoch 28/200\n",
            "52/52 [==============================] - 0s 3ms/step - loss: 0.5666 - accuracy: 0.7121\n",
            "Epoch 29/200\n",
            "52/52 [==============================] - 0s 3ms/step - loss: 0.5251 - accuracy: 0.7374\n",
            "Epoch 30/200\n",
            "52/52 [==============================] - 0s 3ms/step - loss: 0.5499 - accuracy: 0.7374\n",
            "Epoch 31/200\n",
            "52/52 [==============================] - 0s 3ms/step - loss: 0.5287 - accuracy: 0.7510\n",
            "Epoch 32/200\n",
            "52/52 [==============================] - 0s 3ms/step - loss: 0.5626 - accuracy: 0.6965\n",
            "Epoch 33/200\n",
            "52/52 [==============================] - 0s 3ms/step - loss: 0.5373 - accuracy: 0.7218\n",
            "Epoch 34/200\n",
            "52/52 [==============================] - 0s 3ms/step - loss: 0.5194 - accuracy: 0.7471\n",
            "Epoch 35/200\n",
            "52/52 [==============================] - 0s 3ms/step - loss: 0.5289 - accuracy: 0.7412\n",
            "Epoch 36/200\n",
            "52/52 [==============================] - 0s 3ms/step - loss: 0.5482 - accuracy: 0.7276\n",
            "Epoch 37/200\n",
            "52/52 [==============================] - 0s 3ms/step - loss: 0.5430 - accuracy: 0.7218\n",
            "Epoch 38/200\n",
            "52/52 [==============================] - 0s 3ms/step - loss: 0.5731 - accuracy: 0.7296\n",
            "Epoch 39/200\n",
            "52/52 [==============================] - 0s 3ms/step - loss: 0.5250 - accuracy: 0.7646\n",
            "Epoch 40/200\n",
            "52/52 [==============================] - 0s 3ms/step - loss: 0.5283 - accuracy: 0.7257\n",
            "Epoch 41/200\n",
            "52/52 [==============================] - 0s 3ms/step - loss: 0.5199 - accuracy: 0.7471\n",
            "Epoch 42/200\n",
            "52/52 [==============================] - 0s 3ms/step - loss: 0.5261 - accuracy: 0.7412\n",
            "Epoch 43/200\n",
            "52/52 [==============================] - 0s 3ms/step - loss: 0.5204 - accuracy: 0.7451\n",
            "Epoch 44/200\n",
            "52/52 [==============================] - 0s 3ms/step - loss: 0.5209 - accuracy: 0.7335\n",
            "Epoch 45/200\n",
            "52/52 [==============================] - 0s 3ms/step - loss: 0.5172 - accuracy: 0.7412\n",
            "Epoch 46/200\n",
            "52/52 [==============================] - 0s 3ms/step - loss: 0.5275 - accuracy: 0.7471\n",
            "Epoch 47/200\n",
            "52/52 [==============================] - 0s 4ms/step - loss: 0.5071 - accuracy: 0.7529\n",
            "Epoch 48/200\n",
            "52/52 [==============================] - 0s 6ms/step - loss: 0.4976 - accuracy: 0.7665\n",
            "Epoch 49/200\n",
            "52/52 [==============================] - 0s 6ms/step - loss: 0.5383 - accuracy: 0.7237\n",
            "Epoch 50/200\n",
            "52/52 [==============================] - 0s 5ms/step - loss: 0.5107 - accuracy: 0.7393\n",
            "Epoch 51/200\n",
            "52/52 [==============================] - 0s 5ms/step - loss: 0.5368 - accuracy: 0.7218\n",
            "Epoch 52/200\n",
            "52/52 [==============================] - 0s 5ms/step - loss: 0.5197 - accuracy: 0.7335\n",
            "Epoch 53/200\n",
            "52/52 [==============================] - 0s 5ms/step - loss: 0.5214 - accuracy: 0.7412\n",
            "Epoch 54/200\n",
            "52/52 [==============================] - 0s 5ms/step - loss: 0.5228 - accuracy: 0.7665\n",
            "Epoch 55/200\n",
            "52/52 [==============================] - 0s 5ms/step - loss: 0.5373 - accuracy: 0.7257\n",
            "Epoch 56/200\n",
            "52/52 [==============================] - 0s 5ms/step - loss: 0.5236 - accuracy: 0.7140\n",
            "Epoch 57/200\n",
            "52/52 [==============================] - 0s 5ms/step - loss: 0.5039 - accuracy: 0.7490\n",
            "Epoch 58/200\n",
            "52/52 [==============================] - 0s 5ms/step - loss: 0.5069 - accuracy: 0.7237\n",
            "Epoch 59/200\n",
            "52/52 [==============================] - 0s 3ms/step - loss: 0.5444 - accuracy: 0.7198\n",
            "Epoch 60/200\n",
            "52/52 [==============================] - 0s 3ms/step - loss: 0.5352 - accuracy: 0.7179\n",
            "Epoch 61/200\n",
            "52/52 [==============================] - 0s 4ms/step - loss: 0.5111 - accuracy: 0.7471\n",
            "Epoch 62/200\n",
            "52/52 [==============================] - 0s 3ms/step - loss: 0.5384 - accuracy: 0.7237\n",
            "Epoch 63/200\n",
            "52/52 [==============================] - 0s 3ms/step - loss: 0.5190 - accuracy: 0.7510\n",
            "Epoch 64/200\n",
            "52/52 [==============================] - 0s 3ms/step - loss: 0.5176 - accuracy: 0.7393\n",
            "Epoch 65/200\n",
            "52/52 [==============================] - 0s 3ms/step - loss: 0.4943 - accuracy: 0.7568\n",
            "Epoch 66/200\n",
            "52/52 [==============================] - 0s 3ms/step - loss: 0.5424 - accuracy: 0.7315\n",
            "Epoch 67/200\n",
            "52/52 [==============================] - 0s 3ms/step - loss: 0.5468 - accuracy: 0.7626\n",
            "Epoch 68/200\n",
            "52/52 [==============================] - 0s 3ms/step - loss: 0.5317 - accuracy: 0.7510\n",
            "Epoch 69/200\n",
            "52/52 [==============================] - 0s 3ms/step - loss: 0.5360 - accuracy: 0.7374\n",
            "Epoch 70/200\n",
            "52/52 [==============================] - 0s 3ms/step - loss: 0.5529 - accuracy: 0.7160\n",
            "Epoch 71/200\n",
            "52/52 [==============================] - 0s 3ms/step - loss: 0.5219 - accuracy: 0.7412\n",
            "Epoch 72/200\n",
            "52/52 [==============================] - 0s 3ms/step - loss: 0.5038 - accuracy: 0.7412\n",
            "Epoch 73/200\n",
            "52/52 [==============================] - 0s 4ms/step - loss: 0.5125 - accuracy: 0.7218\n",
            "Epoch 74/200\n",
            "52/52 [==============================] - 0s 3ms/step - loss: 0.5002 - accuracy: 0.7607\n",
            "Epoch 75/200\n",
            "52/52 [==============================] - 0s 3ms/step - loss: 0.5320 - accuracy: 0.7549\n",
            "Epoch 76/200\n",
            "52/52 [==============================] - 0s 3ms/step - loss: 0.5218 - accuracy: 0.7374\n",
            "Epoch 77/200\n",
            "52/52 [==============================] - 0s 3ms/step - loss: 0.5077 - accuracy: 0.7393\n",
            "Epoch 78/200\n",
            "52/52 [==============================] - 0s 4ms/step - loss: 0.5242 - accuracy: 0.7510\n",
            "Epoch 79/200\n",
            "52/52 [==============================] - 0s 3ms/step - loss: 0.5024 - accuracy: 0.7432\n",
            "Epoch 80/200\n",
            "52/52 [==============================] - 0s 4ms/step - loss: 0.5104 - accuracy: 0.7626\n",
            "Epoch 81/200\n",
            "52/52 [==============================] - 0s 3ms/step - loss: 0.5265 - accuracy: 0.7276\n",
            "Epoch 82/200\n",
            "52/52 [==============================] - 0s 3ms/step - loss: 0.5305 - accuracy: 0.7529\n",
            "Epoch 83/200\n",
            "52/52 [==============================] - 0s 4ms/step - loss: 0.5154 - accuracy: 0.7665\n",
            "Epoch 84/200\n",
            "52/52 [==============================] - 0s 4ms/step - loss: 0.5220 - accuracy: 0.7432\n",
            "Epoch 85/200\n",
            "52/52 [==============================] - 0s 3ms/step - loss: 0.5207 - accuracy: 0.7374\n",
            "Epoch 86/200\n",
            "52/52 [==============================] - 0s 3ms/step - loss: 0.4882 - accuracy: 0.7490\n",
            "Epoch 87/200\n",
            "52/52 [==============================] - 0s 3ms/step - loss: 0.4821 - accuracy: 0.7588\n",
            "Epoch 88/200\n",
            "52/52 [==============================] - 0s 3ms/step - loss: 0.5107 - accuracy: 0.7510\n",
            "Epoch 89/200\n",
            "52/52 [==============================] - 0s 4ms/step - loss: 0.5268 - accuracy: 0.7549\n",
            "Epoch 90/200\n",
            "52/52 [==============================] - 0s 3ms/step - loss: 0.5228 - accuracy: 0.7432\n",
            "Epoch 91/200\n",
            "52/52 [==============================] - 0s 3ms/step - loss: 0.5183 - accuracy: 0.7412\n",
            "Epoch 92/200\n",
            "52/52 [==============================] - 0s 3ms/step - loss: 0.5014 - accuracy: 0.7860\n",
            "Epoch 93/200\n",
            "52/52 [==============================] - 0s 3ms/step - loss: 0.5095 - accuracy: 0.7549\n",
            "Epoch 94/200\n",
            "52/52 [==============================] - 0s 3ms/step - loss: 0.5026 - accuracy: 0.7665\n",
            "Epoch 95/200\n",
            "52/52 [==============================] - 0s 4ms/step - loss: 0.5147 - accuracy: 0.7490\n",
            "Epoch 96/200\n",
            "52/52 [==============================] - 0s 3ms/step - loss: 0.5134 - accuracy: 0.7257\n",
            "Epoch 97/200\n",
            "52/52 [==============================] - 0s 3ms/step - loss: 0.5170 - accuracy: 0.7529\n",
            "Epoch 98/200\n",
            "52/52 [==============================] - 0s 3ms/step - loss: 0.4822 - accuracy: 0.7665\n",
            "Epoch 99/200\n",
            "52/52 [==============================] - 0s 3ms/step - loss: 0.5421 - accuracy: 0.7354\n",
            "Epoch 100/200\n",
            "52/52 [==============================] - 0s 4ms/step - loss: 0.5116 - accuracy: 0.7568\n",
            "Epoch 101/200\n",
            "52/52 [==============================] - 0s 3ms/step - loss: 0.4932 - accuracy: 0.7471\n",
            "Epoch 102/200\n",
            "52/52 [==============================] - 0s 3ms/step - loss: 0.5117 - accuracy: 0.7374\n",
            "Epoch 103/200\n",
            "52/52 [==============================] - 0s 3ms/step - loss: 0.5111 - accuracy: 0.7685\n",
            "Epoch 104/200\n",
            "52/52 [==============================] - 0s 3ms/step - loss: 0.5013 - accuracy: 0.7471\n",
            "Epoch 105/200\n",
            "52/52 [==============================] - 0s 3ms/step - loss: 0.5057 - accuracy: 0.7529\n",
            "Epoch 106/200\n",
            "52/52 [==============================] - 0s 3ms/step - loss: 0.5021 - accuracy: 0.7490\n",
            "Epoch 107/200\n",
            "52/52 [==============================] - 0s 3ms/step - loss: 0.5304 - accuracy: 0.7568\n",
            "Epoch 108/200\n",
            "52/52 [==============================] - 0s 3ms/step - loss: 0.5064 - accuracy: 0.7549\n",
            "Epoch 109/200\n",
            "52/52 [==============================] - 0s 3ms/step - loss: 0.5152 - accuracy: 0.7588\n",
            "Epoch 110/200\n",
            "52/52 [==============================] - 0s 3ms/step - loss: 0.5248 - accuracy: 0.7393\n",
            "Epoch 111/200\n",
            "52/52 [==============================] - 0s 3ms/step - loss: 0.5006 - accuracy: 0.7490\n",
            "Epoch 112/200\n",
            "52/52 [==============================] - 0s 3ms/step - loss: 0.5161 - accuracy: 0.7432\n",
            "Epoch 113/200\n",
            "52/52 [==============================] - 0s 3ms/step - loss: 0.5045 - accuracy: 0.7374\n",
            "Epoch 114/200\n",
            "52/52 [==============================] - 0s 5ms/step - loss: 0.5259 - accuracy: 0.7529\n",
            "Epoch 115/200\n",
            "52/52 [==============================] - 0s 5ms/step - loss: 0.5187 - accuracy: 0.7451\n",
            "Epoch 116/200\n",
            "52/52 [==============================] - 0s 5ms/step - loss: 0.5143 - accuracy: 0.7588\n",
            "Epoch 117/200\n",
            "52/52 [==============================] - 0s 5ms/step - loss: 0.5081 - accuracy: 0.7549\n",
            "Epoch 118/200\n",
            "52/52 [==============================] - 0s 5ms/step - loss: 0.5002 - accuracy: 0.7354\n",
            "Epoch 119/200\n",
            "52/52 [==============================] - 0s 5ms/step - loss: 0.5172 - accuracy: 0.7529\n",
            "Epoch 120/200\n",
            "52/52 [==============================] - 0s 5ms/step - loss: 0.4961 - accuracy: 0.7432\n",
            "Epoch 121/200\n",
            "52/52 [==============================] - 0s 5ms/step - loss: 0.4908 - accuracy: 0.7626\n",
            "Epoch 122/200\n",
            "52/52 [==============================] - 0s 5ms/step - loss: 0.5105 - accuracy: 0.7529\n",
            "Epoch 123/200\n",
            "52/52 [==============================] - 0s 5ms/step - loss: 0.4852 - accuracy: 0.7724\n",
            "Epoch 124/200\n",
            "52/52 [==============================] - 0s 5ms/step - loss: 0.5396 - accuracy: 0.7335\n",
            "Epoch 125/200\n",
            "52/52 [==============================] - 0s 5ms/step - loss: 0.4956 - accuracy: 0.7568\n",
            "Epoch 126/200\n",
            "52/52 [==============================] - 0s 3ms/step - loss: 0.5071 - accuracy: 0.7529\n",
            "Epoch 127/200\n",
            "52/52 [==============================] - 0s 3ms/step - loss: 0.4910 - accuracy: 0.7451\n",
            "Epoch 128/200\n",
            "52/52 [==============================] - 0s 3ms/step - loss: 0.5048 - accuracy: 0.7451\n",
            "Epoch 129/200\n",
            "52/52 [==============================] - 0s 4ms/step - loss: 0.5044 - accuracy: 0.7549\n",
            "Epoch 130/200\n",
            "52/52 [==============================] - 0s 4ms/step - loss: 0.5188 - accuracy: 0.7374\n",
            "Epoch 131/200\n",
            "52/52 [==============================] - 0s 3ms/step - loss: 0.4957 - accuracy: 0.7665\n",
            "Epoch 132/200\n",
            "52/52 [==============================] - 0s 4ms/step - loss: 0.5199 - accuracy: 0.7588\n",
            "Epoch 133/200\n",
            "52/52 [==============================] - 0s 3ms/step - loss: 0.5062 - accuracy: 0.7354\n",
            "Epoch 134/200\n",
            "52/52 [==============================] - 0s 3ms/step - loss: 0.5053 - accuracy: 0.7490\n",
            "Epoch 135/200\n",
            "52/52 [==============================] - 0s 3ms/step - loss: 0.4924 - accuracy: 0.7665\n",
            "Epoch 136/200\n",
            "52/52 [==============================] - 0s 3ms/step - loss: 0.5152 - accuracy: 0.7412\n",
            "Epoch 137/200\n",
            "52/52 [==============================] - 0s 3ms/step - loss: 0.5036 - accuracy: 0.7685\n",
            "Epoch 138/200\n",
            "52/52 [==============================] - 0s 3ms/step - loss: 0.4969 - accuracy: 0.7218\n",
            "Epoch 139/200\n",
            "52/52 [==============================] - 0s 3ms/step - loss: 0.5351 - accuracy: 0.7471\n",
            "Epoch 140/200\n",
            "52/52 [==============================] - 0s 3ms/step - loss: 0.5088 - accuracy: 0.7451\n",
            "Epoch 141/200\n",
            "52/52 [==============================] - 0s 3ms/step - loss: 0.5202 - accuracy: 0.7529\n",
            "Epoch 142/200\n",
            "52/52 [==============================] - 0s 4ms/step - loss: 0.4806 - accuracy: 0.7743\n",
            "Epoch 143/200\n",
            "52/52 [==============================] - 0s 3ms/step - loss: 0.4956 - accuracy: 0.7471\n",
            "Epoch 144/200\n",
            "52/52 [==============================] - 0s 3ms/step - loss: 0.5028 - accuracy: 0.7588\n",
            "Epoch 145/200\n",
            "52/52 [==============================] - 0s 3ms/step - loss: 0.5067 - accuracy: 0.7529\n",
            "Epoch 146/200\n",
            "52/52 [==============================] - 0s 3ms/step - loss: 0.5183 - accuracy: 0.7568\n",
            "Epoch 147/200\n",
            "52/52 [==============================] - 0s 3ms/step - loss: 0.4888 - accuracy: 0.7626\n",
            "Epoch 148/200\n",
            "52/52 [==============================] - 0s 3ms/step - loss: 0.4929 - accuracy: 0.7588\n",
            "Epoch 149/200\n",
            "52/52 [==============================] - 0s 4ms/step - loss: 0.5074 - accuracy: 0.7393\n",
            "Epoch 150/200\n",
            "52/52 [==============================] - 0s 4ms/step - loss: 0.5274 - accuracy: 0.7276\n",
            "Epoch 151/200\n",
            "52/52 [==============================] - 0s 3ms/step - loss: 0.4939 - accuracy: 0.7607\n",
            "Epoch 152/200\n",
            "52/52 [==============================] - 0s 4ms/step - loss: 0.5112 - accuracy: 0.7490\n",
            "Epoch 153/200\n",
            "52/52 [==============================] - 0s 3ms/step - loss: 0.5006 - accuracy: 0.7432\n",
            "Epoch 154/200\n",
            "52/52 [==============================] - 0s 4ms/step - loss: 0.5250 - accuracy: 0.7335\n",
            "Epoch 155/200\n",
            "52/52 [==============================] - 0s 3ms/step - loss: 0.4836 - accuracy: 0.7626\n",
            "Epoch 156/200\n",
            "52/52 [==============================] - 0s 3ms/step - loss: 0.4915 - accuracy: 0.7510\n",
            "Epoch 157/200\n",
            "52/52 [==============================] - 0s 4ms/step - loss: 0.4912 - accuracy: 0.7665\n",
            "Epoch 158/200\n",
            "52/52 [==============================] - 0s 3ms/step - loss: 0.5182 - accuracy: 0.7490\n",
            "Epoch 159/200\n",
            "52/52 [==============================] - 0s 3ms/step - loss: 0.5239 - accuracy: 0.7354\n",
            "Epoch 160/200\n",
            "52/52 [==============================] - 0s 4ms/step - loss: 0.5022 - accuracy: 0.7529\n",
            "Epoch 161/200\n",
            "52/52 [==============================] - 0s 3ms/step - loss: 0.5108 - accuracy: 0.7724\n",
            "Epoch 162/200\n",
            "52/52 [==============================] - 0s 3ms/step - loss: 0.5237 - accuracy: 0.7354\n",
            "Epoch 163/200\n",
            "52/52 [==============================] - 0s 3ms/step - loss: 0.5163 - accuracy: 0.7354\n",
            "Epoch 164/200\n",
            "52/52 [==============================] - 0s 3ms/step - loss: 0.5185 - accuracy: 0.7607\n",
            "Epoch 165/200\n",
            "52/52 [==============================] - 0s 3ms/step - loss: 0.4805 - accuracy: 0.7626\n",
            "Epoch 166/200\n",
            "52/52 [==============================] - 0s 3ms/step - loss: 0.4996 - accuracy: 0.7685\n",
            "Epoch 167/200\n",
            "52/52 [==============================] - 0s 3ms/step - loss: 0.4895 - accuracy: 0.7607\n",
            "Epoch 168/200\n",
            "52/52 [==============================] - 0s 3ms/step - loss: 0.5188 - accuracy: 0.7471\n",
            "Epoch 169/200\n",
            "52/52 [==============================] - 0s 3ms/step - loss: 0.4892 - accuracy: 0.7490\n",
            "Epoch 170/200\n",
            "52/52 [==============================] - 0s 3ms/step - loss: 0.4901 - accuracy: 0.7510\n",
            "Epoch 171/200\n",
            "52/52 [==============================] - 0s 3ms/step - loss: 0.5219 - accuracy: 0.7432\n",
            "Epoch 172/200\n",
            "52/52 [==============================] - 0s 4ms/step - loss: 0.5414 - accuracy: 0.7218\n",
            "Epoch 173/200\n",
            "52/52 [==============================] - 0s 3ms/step - loss: 0.4932 - accuracy: 0.7549\n",
            "Epoch 174/200\n",
            "52/52 [==============================] - 0s 4ms/step - loss: 0.4962 - accuracy: 0.7607\n",
            "Epoch 175/200\n",
            "52/52 [==============================] - 0s 3ms/step - loss: 0.5019 - accuracy: 0.7335\n",
            "Epoch 176/200\n",
            "52/52 [==============================] - 0s 3ms/step - loss: 0.5077 - accuracy: 0.7704\n",
            "Epoch 177/200\n",
            "52/52 [==============================] - 0s 3ms/step - loss: 0.4950 - accuracy: 0.7685\n",
            "Epoch 178/200\n",
            "52/52 [==============================] - 0s 3ms/step - loss: 0.5213 - accuracy: 0.7432\n",
            "Epoch 179/200\n",
            "52/52 [==============================] - 0s 3ms/step - loss: 0.5038 - accuracy: 0.7412\n",
            "Epoch 180/200\n",
            "52/52 [==============================] - 0s 4ms/step - loss: 0.5169 - accuracy: 0.7296\n",
            "Epoch 181/200\n",
            "52/52 [==============================] - 0s 4ms/step - loss: 0.5010 - accuracy: 0.7665\n",
            "Epoch 182/200\n",
            "52/52 [==============================] - 0s 5ms/step - loss: 0.5130 - accuracy: 0.7529\n",
            "Epoch 183/200\n",
            "52/52 [==============================] - 0s 5ms/step - loss: 0.4965 - accuracy: 0.7607\n",
            "Epoch 184/200\n",
            "52/52 [==============================] - 0s 5ms/step - loss: 0.4982 - accuracy: 0.7607\n",
            "Epoch 185/200\n",
            "52/52 [==============================] - 0s 5ms/step - loss: 0.4926 - accuracy: 0.7685\n",
            "Epoch 186/200\n",
            "52/52 [==============================] - 0s 5ms/step - loss: 0.5185 - accuracy: 0.7335\n",
            "Epoch 187/200\n",
            "52/52 [==============================] - 0s 5ms/step - loss: 0.4696 - accuracy: 0.7763\n",
            "Epoch 188/200\n",
            "52/52 [==============================] - 0s 5ms/step - loss: 0.5126 - accuracy: 0.7393\n",
            "Epoch 189/200\n",
            "52/52 [==============================] - 0s 5ms/step - loss: 0.5030 - accuracy: 0.7568\n",
            "Epoch 190/200\n",
            "52/52 [==============================] - 0s 5ms/step - loss: 0.5075 - accuracy: 0.7743\n",
            "Epoch 191/200\n",
            "52/52 [==============================] - 0s 5ms/step - loss: 0.4908 - accuracy: 0.7529\n",
            "Epoch 192/200\n",
            "52/52 [==============================] - 0s 5ms/step - loss: 0.5060 - accuracy: 0.7412\n",
            "Epoch 193/200\n",
            "52/52 [==============================] - 0s 4ms/step - loss: 0.5009 - accuracy: 0.7626\n",
            "Epoch 194/200\n",
            "52/52 [==============================] - 0s 3ms/step - loss: 0.5066 - accuracy: 0.7685\n",
            "Epoch 195/200\n",
            "52/52 [==============================] - 0s 3ms/step - loss: 0.5380 - accuracy: 0.7354\n",
            "Epoch 196/200\n",
            "52/52 [==============================] - 0s 3ms/step - loss: 0.4977 - accuracy: 0.7646\n",
            "Epoch 197/200\n",
            "52/52 [==============================] - 0s 4ms/step - loss: 0.5010 - accuracy: 0.7471\n",
            "Epoch 198/200\n",
            "52/52 [==============================] - 0s 3ms/step - loss: 0.4995 - accuracy: 0.7646\n",
            "Epoch 199/200\n",
            "52/52 [==============================] - 0s 3ms/step - loss: 0.5033 - accuracy: 0.7529\n",
            "Epoch 200/200\n",
            "52/52 [==============================] - 0s 4ms/step - loss: 0.5140 - accuracy: 0.7432\n"
          ]
        },
        {
          "data": {
            "text/plain": [
              "<keras.callbacks.History at 0x7f4aee2af1c0>"
            ]
          },
          "execution_count": 44,
          "metadata": {},
          "output_type": "execute_result"
        }
      ],
      "source": [
        "model.fit(x_train,y_train,batch_size=10,epochs=200)"
      ]
    },
    {
      "cell_type": "code",
      "execution_count": null,
      "metadata": {
        "colab": {
          "background_save": true
        },
        "id": "dsaUl0ci2fqv",
        "outputId": "fbcc5bb7-efb7-4e79-ade3-d5e85d8f2bf3"
      },
      "outputs": [
        {
          "name": "stdout",
          "output_type": "stream",
          "text": [
            "26/26 [==============================] - 0s 2ms/step\n",
            "8/8 [==============================] - 0s 3ms/step - loss: 0.4621 - accuracy: 0.7795\n"
          ]
        },
        {
          "data": {
            "text/plain": [
              "[0.46212753653526306, 0.7795275449752808]"
            ]
          },
          "execution_count": 45,
          "metadata": {},
          "output_type": "execute_result"
        }
      ],
      "source": [
        "pred=model.predict(x_test,batch_size=10)\n",
        "rounded = [round(x[0]) for x in pred]\n",
        "model.evaluate(x_test,y_test)"
      ]
    },
    {
      "cell_type": "code",
      "execution_count": null,
      "metadata": {
        "colab": {
          "background_save": true
        },
        "id": "T0tbXNBi2fsn"
      },
      "outputs": [],
      "source": [
        "from sklearn.metrics import classification_report,accuracy_score,confusion_matrix\n"
      ]
    },
    {
      "cell_type": "code",
      "execution_count": null,
      "metadata": {
        "colab": {
          "background_save": true
        },
        "id": "xPgOWUKv2fwq",
        "outputId": "d5ff4a89-0dc3-4cc0-8675-c9e8c53b7722"
      },
      "outputs": [
        {
          "name": "stdout",
          "output_type": "stream",
          "text": [
            "              precision    recall  f1-score   support\n",
            "\n",
            "           0       0.80      0.89      0.84       167\n",
            "           1       0.72      0.57      0.64        87\n",
            "\n",
            "    accuracy                           0.78       254\n",
            "   macro avg       0.76      0.73      0.74       254\n",
            "weighted avg       0.77      0.78      0.77       254\n",
            "\n"
          ]
        }
      ],
      "source": [
        "print(classification_report(y_test,rounded))"
      ]
    }
  ],
  "metadata": {
    "colab": {
      "provenance": []
    },
    "kernelspec": {
      "display_name": "Python 3",
      "name": "python3"
    },
    "language_info": {
      "name": "python"
    }
  },
  "nbformat": 4,
  "nbformat_minor": 0
}